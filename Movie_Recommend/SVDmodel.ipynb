{
 "cells": [
  {
   "cell_type": "code",
   "execution_count": 1,
   "id": "501e6933-7815-4e53-a34a-af48076350b8",
   "metadata": {},
   "outputs": [],
   "source": [
    "import pandas as pd\n",
    "from surprise import Dataset, Reader, SVD\n",
    "from surprise.model_selection import train_test_split\n",
    "from surprise import accuracy\n",
    "\n",
    "# Load movie data from CSV files\n",
    "movies_data = pd.read_csv('movies.csv')\n",
    "ratings_data = pd.read_csv('ratings.csv')  # Assuming you have a ratings dataset\n",
    "\n",
    "# Surprise requires a specific format for ratings data\n",
    "reader = Reader(rating_scale=(1, 5))  # Ratings scale from 1 to 5\n",
    "data = Dataset.load_from_df(ratings_data[['userId', 'movieId', 'rating']], reader)"
   ]
  },
  {
   "cell_type": "code",
   "execution_count": 2,
   "id": "0c129e29",
   "metadata": {},
   "outputs": [
    {
     "data": {
      "text/plain": [
       "<surprise.prediction_algorithms.matrix_factorization.SVD at 0x15b7a7cf290>"
      ]
     },
     "execution_count": 2,
     "metadata": {},
     "output_type": "execute_result"
    }
   ],
   "source": [
    "trainset, testset = train_test_split(data, test_size=0.2, random_state=42)\n",
    "\n",
    "# Initialize and train the SVD model\n",
    "model_svd = SVD()\n",
    "model_svd.fit(trainset)"
   ]
  },
  {
   "cell_type": "code",
   "execution_count": 3,
   "id": "0062395b-aab7-4914-bf92-26e7d98198cc",
   "metadata": {},
   "outputs": [],
   "source": [
    "# Function to recommend movies based on a given movie title\n",
    "def Recommend_movies_svd(movie_title, top_n=11):\n",
    "   \n",
    "    # Find the movie ID corresponding to the input movie title\n",
    "    movie_id = movies_data.loc[movies_data['title'] == movie_title, 'movieId'].iloc[0]\n",
    "    \n",
    "    # Get the latent factors (features) for the input movie from the trained SVD model\n",
    "    movie_factors = model_svd.qi[model_svd.trainset.to_inner_iid(movie_id)]\n",
    "    \n",
    "    similarities = []\n",
    "    # Iterate over all items (movies) in the training set of the SVD model\n",
    "    for inner_id in model_svd.trainset.all_items():\n",
    "        # Get the latent factors (features) for the current movie\n",
    "        other_movie_factors = model_svd.qi[inner_id]\n",
    "        \n",
    "        # Calculate the cosine similarity between the input movie and the current movie\n",
    "        similarity = sum(movie_factors * other_movie_factors)\n",
    "        \n",
    "        # Append the movie ID and its similarity to the input movie to the list\n",
    "        similarities.append((model_svd.trainset.to_raw_iid(inner_id), similarity))\n",
    "    \n",
    "    # Sort movies by similarity in descending order (higher similarity means more similar)\n",
    "    similarities.sort(key=lambda x: x[1], reverse=True)\n",
    "    \n",
    "     # Extract the top recommended movie IDs (excluding the input movie itself)\n",
    "    recommended_movie_ids = [sim[0] for sim in similarities[:top_n] if sim[0] != movie_id]\n",
    "    \n",
    "    # Get movie titles based on recommended IDs\n",
    "    recommended_movies = movies_data[movies_data['movieId'].isin(recommended_movie_ids)]['title'].values\n",
    "    \n",
    "    return recommended_movies\n"
   ]
  },
  {
   "cell_type": "code",
   "execution_count": 4,
   "id": "be0422cd-0eae-451a-b01e-01d846699e52",
   "metadata": {},
   "outputs": [
    {
     "data": {
      "text/html": [
       "<div>\n",
       "<style scoped>\n",
       "    .dataframe tbody tr th:only-of-type {\n",
       "        vertical-align: middle;\n",
       "    }\n",
       "\n",
       "    .dataframe tbody tr th {\n",
       "        vertical-align: top;\n",
       "    }\n",
       "\n",
       "    .dataframe thead th {\n",
       "        text-align: right;\n",
       "    }\n",
       "</style>\n",
       "<table border=\"1\" class=\"dataframe\">\n",
       "  <thead>\n",
       "    <tr style=\"text-align: right;\">\n",
       "      <th></th>\n",
       "      <th>movieId</th>\n",
       "      <th>title</th>\n",
       "      <th>genres</th>\n",
       "    </tr>\n",
       "  </thead>\n",
       "  <tbody>\n",
       "    <tr>\n",
       "      <th>0</th>\n",
       "      <td>1</td>\n",
       "      <td>Toy Story (1995)</td>\n",
       "      <td>Adventure|Animation|Children|Comedy|Fantasy</td>\n",
       "    </tr>\n",
       "    <tr>\n",
       "      <th>1</th>\n",
       "      <td>2</td>\n",
       "      <td>Jumanji (1995)</td>\n",
       "      <td>Adventure|Children|Fantasy</td>\n",
       "    </tr>\n",
       "    <tr>\n",
       "      <th>2</th>\n",
       "      <td>3</td>\n",
       "      <td>Grumpier Old Men (1995)</td>\n",
       "      <td>Comedy|Romance</td>\n",
       "    </tr>\n",
       "    <tr>\n",
       "      <th>3</th>\n",
       "      <td>4</td>\n",
       "      <td>Waiting to Exhale (1995)</td>\n",
       "      <td>Comedy|Drama|Romance</td>\n",
       "    </tr>\n",
       "    <tr>\n",
       "      <th>4</th>\n",
       "      <td>5</td>\n",
       "      <td>Father of the Bride Part II (1995)</td>\n",
       "      <td>Comedy</td>\n",
       "    </tr>\n",
       "    <tr>\n",
       "      <th>...</th>\n",
       "      <td>...</td>\n",
       "      <td>...</td>\n",
       "      <td>...</td>\n",
       "    </tr>\n",
       "    <tr>\n",
       "      <th>9737</th>\n",
       "      <td>193581</td>\n",
       "      <td>Black Butler: Book of the Atlantic (2017)</td>\n",
       "      <td>Action|Animation|Comedy|Fantasy</td>\n",
       "    </tr>\n",
       "    <tr>\n",
       "      <th>9738</th>\n",
       "      <td>193583</td>\n",
       "      <td>No Game No Life: Zero (2017)</td>\n",
       "      <td>Animation|Comedy|Fantasy</td>\n",
       "    </tr>\n",
       "    <tr>\n",
       "      <th>9739</th>\n",
       "      <td>193585</td>\n",
       "      <td>Flint (2017)</td>\n",
       "      <td>Drama</td>\n",
       "    </tr>\n",
       "    <tr>\n",
       "      <th>9740</th>\n",
       "      <td>193587</td>\n",
       "      <td>Bungo Stray Dogs: Dead Apple (2018)</td>\n",
       "      <td>Action|Animation</td>\n",
       "    </tr>\n",
       "    <tr>\n",
       "      <th>9741</th>\n",
       "      <td>193609</td>\n",
       "      <td>Andrew Dice Clay: Dice Rules (1991)</td>\n",
       "      <td>Comedy</td>\n",
       "    </tr>\n",
       "  </tbody>\n",
       "</table>\n",
       "<p>9742 rows × 3 columns</p>\n",
       "</div>"
      ],
      "text/plain": [
       "      movieId                                      title  \\\n",
       "0           1                           Toy Story (1995)   \n",
       "1           2                             Jumanji (1995)   \n",
       "2           3                    Grumpier Old Men (1995)   \n",
       "3           4                   Waiting to Exhale (1995)   \n",
       "4           5         Father of the Bride Part II (1995)   \n",
       "...       ...                                        ...   \n",
       "9737   193581  Black Butler: Book of the Atlantic (2017)   \n",
       "9738   193583               No Game No Life: Zero (2017)   \n",
       "9739   193585                               Flint (2017)   \n",
       "9740   193587        Bungo Stray Dogs: Dead Apple (2018)   \n",
       "9741   193609        Andrew Dice Clay: Dice Rules (1991)   \n",
       "\n",
       "                                           genres  \n",
       "0     Adventure|Animation|Children|Comedy|Fantasy  \n",
       "1                      Adventure|Children|Fantasy  \n",
       "2                                  Comedy|Romance  \n",
       "3                            Comedy|Drama|Romance  \n",
       "4                                          Comedy  \n",
       "...                                           ...  \n",
       "9737              Action|Animation|Comedy|Fantasy  \n",
       "9738                     Animation|Comedy|Fantasy  \n",
       "9739                                        Drama  \n",
       "9740                             Action|Animation  \n",
       "9741                                       Comedy  \n",
       "\n",
       "[9742 rows x 3 columns]"
      ]
     },
     "execution_count": 4,
     "metadata": {},
     "output_type": "execute_result"
    }
   ],
   "source": [
    "movies_data"
   ]
  },
  {
   "cell_type": "code",
   "execution_count": 5,
   "id": "fce64a54-26e4-4faa-a371-0fdb1cb1da96",
   "metadata": {},
   "outputs": [],
   "source": [
    "import pickle\n",
    "filename = 'model_svd.pkl'\n",
    "\n",
    "with open(filename, 'wb') as file:\n",
    "    pickle.dump(model_svd, file)\n",
    "\n",
    "filename2 = 'movies_data.pkl'\n",
    "\n",
    "with open(filename2, 'wb') as file:\n",
    "    pickle.dump(movies_data, file)\n",
    "\n"
   ]
  },
  {
   "cell_type": "code",
   "execution_count": 6,
   "id": "1aaac8a6-8123-4eee-a8b4-46bcf9e74c9d",
   "metadata": {},
   "outputs": [
    {
     "name": "stdout",
     "output_type": "stream",
     "text": [
      "Recommended movies for 'Ghost in the Shell (2017)':\n",
      "Crying Game, The (1992)\n",
      "Indian Summer (a.k.a. Alive & Kicking) (1996)\n",
      "Interiors (1978)\n",
      "International, The (2009)\n",
      "My Life in Ruins (2009)\n",
      "Sex and the City 2 (2010)\n",
      "Tammy (2014)\n",
      "Exodus: Gods and Kings (2014)\n",
      "Insurgent (2015)\n",
      "My Scientology Movie (2016)\n"
     ]
    }
   ],
   "source": [
    "movie_title = 'Ghost in the Shell (2017)'\n",
    "recommended_movies = Recommend_movies_svd(movie_title)\n",
    "print(f\"Recommended movies for '{movie_title}':\")\n",
    "for movie in recommended_movies:\n",
    "    print(movie)\n"
   ]
  },
  {
   "cell_type": "code",
   "execution_count": 7,
   "id": "4ce0e56a-3c73-4931-8359-3bdab62e24d8",
   "metadata": {},
   "outputs": [
    {
     "name": "stdout",
     "output_type": "stream",
     "text": [
      "RMSE: 0.8729\n",
      "RMSE: 0.8728899317493092\n"
     ]
    }
   ],
   "source": [
    "trainset, testset = train_test_split(data, test_size=0.2)\n",
    "\n",
    "model_svd = SVD()\n",
    "\n",
    "model_svd.fit(trainset)\n",
    "\n",
    "predictions = model_svd.test(testset)\n",
    "\n",
    "rmse = accuracy.rmse(predictions)\n",
    "\n",
    "print(f\"RMSE: {rmse}\")"
   ]
  },
  {
   "cell_type": "code",
   "execution_count": 8,
   "id": "37169bb8-30b3-4db1-9be4-c753dc73f56e",
   "metadata": {},
   "outputs": [],
   "source": [
    "def calculate_accuracy(predictions, tolerance=1):\n",
    "    correct_predictions = 0\n",
    "    total_predictions = len(predictions)\n",
    "\n",
    "    for prediction in predictions:\n",
    "        actual_rating = prediction.r_ui\n",
    "        predicted_rating = prediction.est\n",
    "\n",
    "        if abs(predicted_rating - actual_rating) <= tolerance:\n",
    "            correct_predictions += 1\n",
    "\n",
    "    accuracy_percentage = (correct_predictions / total_predictions) * 100\n",
    "    return accuracy_percentage\n"
   ]
  },
  {
   "cell_type": "code",
   "execution_count": 9,
   "id": "7146a938-4026-48f5-9682-4f022e8eb939",
   "metadata": {},
   "outputs": [
    {
     "name": "stdout",
     "output_type": "stream",
     "text": [
      "Accuracy: 77.43%\n"
     ]
    }
   ],
   "source": [
    "predictions = model_svd.test(testset)\n",
    "accuracy_percentage = calculate_accuracy(predictions, tolerance=1)\n",
    "\n",
    "print(f\"Accuracy: {accuracy_percentage:.2f}%\")\n"
   ]
  },
  {
   "cell_type": "code",
   "execution_count": null,
   "id": "1ae7eacf-2670-43b5-a032-92ce9824eb40",
   "metadata": {},
   "outputs": [],
   "source": []
  }
 ],
 "metadata": {
  "kernelspec": {
   "display_name": "Python 3",
   "language": "python",
   "name": "python3"
  },
  "language_info": {
   "codemirror_mode": {
    "name": "ipython",
    "version": 3
   },
   "file_extension": ".py",
   "mimetype": "text/x-python",
   "name": "python",
   "nbconvert_exporter": "python",
   "pygments_lexer": "ipython3",
   "version": "3.11.5"
  }
 },
 "nbformat": 4,
 "nbformat_minor": 5
}
